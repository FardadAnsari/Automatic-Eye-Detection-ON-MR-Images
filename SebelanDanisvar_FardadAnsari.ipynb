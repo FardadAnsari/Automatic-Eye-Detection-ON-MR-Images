{
  "nbformat": 4,
  "nbformat_minor": 0,
  "metadata": {
    "colab": {
      "name": "kerasregression2project.ipynb",
      "provenance": [],
      "collapsed_sections": [],
      "toc_visible": true
    },
    "kernelspec": {
      "name": "python3",
      "display_name": "Python 3"
    }
  },
  "cells": [
    {
      "cell_type": "code",
      "metadata": {
        "id": "Erq9-BeHtS9R",
        "colab_type": "code",
        "colab": {}
      },
      "source": [
        "#Loading marked images from folder and add them to list and sorted them . \n",
        "#The images path are being added to a list with natsorted command , \n",
        "#after running this code you are going to add all path to a list named markedimage, \n",
        "#and more important all the images path are sorted\n",
        "from natsort import natsorted\n",
        "import glob\n",
        "import cv2\n",
        "import numpy as np\n",
        "markedimage=[]\n",
        "for item in glob.glob(\"/content/Second_marked_inputs/*\"):\n",
        "  markedimage.append(item)\n",
        "sortedmarkedimage=natsorted(markedimage)"
      ],
      "execution_count": 0,
      "outputs": []
    },
    {
      "cell_type": "code",
      "metadata": {
        "id": "Rrt7--fjXx3X",
        "colab_type": "code",
        "colab": {}
      },
      "source": [
        "#Check the number of images in your list \n",
        "#in this project we have used nearly 300 MRI images \n",
        "len(sortedmarkedimage)\n"
      ],
      "execution_count": 0,
      "outputs": []
    },
    {
      "cell_type": "code",
      "metadata": {
        "id": "sXGilA0-vH-N",
        "colab_type": "code",
        "colab": {}
      },
      "source": [
        "#This code has been written by Sebelan Danishvar.\n",
        "#Our Y- goal to network will be 4 points. So instead of using paint or any other segmentation\n",
        "#software simply we color points in eyeball . They are not so accurate\n",
        "#This peice of code would read images from the sortedmarkedimage list and fetch out 2 points \n",
        "#which are our intrest then coordinates would be append to four lists lefteyex and lefteyey \n",
        "#, righteyex and righteyey ---- Just run the code and you will have real coordinates of all \n",
        "#300 images\n",
        "# This code provide us with our Y-Goal in superwised machine learning \n",
        "import matplotlib. pyplot as plt\n",
        "lefteyex=[]\n",
        "lefteyey=[]\n",
        "righteyex=[]\n",
        "righteyey=[]\n",
        "\n",
        "\n",
        "for images in sortedmarkedimage:\n",
        "  img=cv2.imread(images)\n",
        "  im_rgb = cv2.cvtColor(img, cv2.COLOR_BGR2RGB)\n",
        "  im_R=im_rgb[:,:,0] > 200\n",
        "  im_G=im_rgb[:,:,1] < 120\n",
        "  im_B=im_rgb[:,:,2] < 120\n",
        "  im_total=im_R*im_G*im_B*1\n",
        "  Points_num=np.sum(im_total)\n",
        "  if Points_num != 2:\n",
        "    print('There is an error! We have not got 2 points! Check again')\n",
        "  [x,y]=np.where(im_total==1)\n",
        "  P1=[x[0] , y[0]]\n",
        "  P2=[x[1] , y[1]]\n",
        "  lefteyex.append(x[0])\n",
        "  righteyex.append(x[1])\n",
        "  #here we put a condition to be sure coordinate of right eye in Y-component is larger\n",
        "  #that y componet of left eye\n",
        "  if y[0]<y[1]:\n",
        "    lefteyey.append(y[0])\n",
        "    righteyey.append(y[1])\n",
        "  if y[0]>y[1]:\n",
        "    lefteyey.append(y[1])\n",
        "    righteyey.append(y[0])"
      ],
      "execution_count": 0,
      "outputs": []
    },
    {
      "cell_type": "code",
      "metadata": {
        "id": "4q0NEJns4_0x",
        "colab_type": "code",
        "colab": {}
      },
      "source": [
        "#Test this code to check you have coordinates in a list\n",
        "lefteyey"
      ],
      "execution_count": 0,
      "outputs": []
    },
    {
      "cell_type": "code",
      "metadata": {
        "id": "JU0mpHnBPNYs",
        "colab_type": "code",
        "colab": {}
      },
      "source": [
        "#In this peice of code we want to create a empty datafram for having a view from \n",
        "#what we have in our hand so please run it\n",
        "import pandas as pd   \n",
        "col_names =  ['LEFT EYE X', 'LEFT EYE Y', 'RIGHT EYE X','RIGHT EYE Y']\n",
        "my_df  = pd.DataFrame(columns = col_names)"
      ],
      "execution_count": 0,
      "outputs": []
    },
    {
      "cell_type": "code",
      "metadata": {
        "id": "6Xa6NtGPPY9n",
        "colab_type": "code",
        "colab": {}
      },
      "source": [
        "#We name our columns as Left EYE X , Left EYE Y, Right EYE X , Right EYE Y Please Run it\n",
        "my_df['LEFT EYE X']=lefteyex\n",
        "my_df['LEFT EYE Y']=lefteyey\n",
        "my_df['RIGHT EYE X']=righteyex\n",
        "my_df['RIGHT EYE Y']=righteyey"
      ],
      "execution_count": 0,
      "outputs": []
    },
    {
      "cell_type": "code",
      "metadata": {
        "id": "6z2Xzwd2TYo9",
        "colab_type": "code",
        "colab": {}
      },
      "source": [
        "#So here check your data frames the number of all goal outputs training + test --- \n",
        "#Please Run the code\n",
        "my_df"
      ],
      "execution_count": 0,
      "outputs": []
    },
    {
      "cell_type": "code",
      "metadata": {
        "id": "TLi7r2t7zsjy",
        "colab_type": "code",
        "outputId": "23a1cc33-8bcd-4ab8-8a3c-bdd3589afde2",
        "colab": {
          "base_uri": "https://localhost:8080/",
          "height": 35
        }
      },
      "source": [
        "#You can check the number of elements in one column\n",
        "print(len(my_df['LEFT EYE X']))"
      ],
      "execution_count": 0,
      "outputs": [
        {
          "output_type": "stream",
          "text": [
            "300\n"
          ],
          "name": "stdout"
        }
      ]
    },
    {
      "cell_type": "code",
      "metadata": {
        "id": "Xsp4Vwp1w7yf",
        "colab_type": "code",
        "colab": {}
      },
      "source": [
        "#Loading MRI images , putting them in order by data fram index and \n",
        "#convert them to array we have to read images from path and numbers \n",
        "#in the names are corresponding to the row numbers in data fram--- \n",
        "#Reading images , append them to list , sort them and convert list to array\n",
        "from natsort import natsorted\n",
        "import glob\n",
        "import cv2\n",
        "import numpy as np\n",
        "image=[]\n",
        "image_1=[]\n",
        "for i in glob.glob(\"/content/inputdata1/*.jpg\"):\n",
        "  image.append(i)\n",
        "images=natsorted(image)\n",
        "for img in images:\n",
        "  input_img=cv2.imread(img)\n",
        "  image_1.append(input_img)\n",
        "input_images=np.array(image_1)"
      ],
      "execution_count": 0,
      "outputs": []
    },
    {
      "cell_type": "code",
      "metadata": {
        "id": "Amnwyg9RgFrH",
        "colab_type": "code",
        "outputId": "5c923249-44e3-487c-a379-895e64bb85c4",
        "colab": {
          "base_uri": "https://localhost:8080/",
          "height": 287
        }
      },
      "source": [
        "#Check to see image numbers in list and index number are same\n",
        "plt.imshow(input_images[13,:,:,:])"
      ],
      "execution_count": 0,
      "outputs": [
        {
          "output_type": "execute_result",
          "data": {
            "text/plain": [
              "<matplotlib.image.AxesImage at 0x7f288b2a9198>"
            ]
          },
          "metadata": {
            "tags": []
          },
          "execution_count": 12
        },
        {
          "output_type": "display_data",
          "data": {
            "image/png": "[encoded data removed]",
            "text/plain": [
              "<Figure size 432x288 with 1 Axes>"
            ]
          },
          "metadata": {
            "tags": []
          }
        }
      ]
    },
    {
      "cell_type": "code",
      "metadata": {
        "id": "szXYC0FxgXaT",
        "colab_type": "code",
        "outputId": "65d09141-b54c-41dc-a6ed-b3a338ff92ba",
        "colab": {
          "base_uri": "https://localhost:8080/",
          "height": 287
        }
      },
      "source": [
        "#sortedmarkedimage[13]\n",
        "plt.imshow(plt.imread(sortedmarkedimage[13]))"
      ],
      "execution_count": 0,
      "outputs": [
        {
          "output_type": "execute_result",
          "data": {
            "text/plain": [
              "<matplotlib.image.AxesImage at 0x7f288ad60898>"
            ]
          },
          "metadata": {
            "tags": []
          },
          "execution_count": 13
        },
        {
          "output_type": "display_data",
          "data": {
            "image/png": "[encoded data removed]",
            "text/plain": [
              "<Figure size 432x288 with 1 Axes>"
            ]
          },
          "metadata": {
            "tags": []
          }
        }
      ]
    },
    {
      "cell_type": "code",
      "metadata": {
        "id": "ulInSJ8fbf8r",
        "colab_type": "code",
        "colab": {}
      },
      "source": [
        "#We now scale our images\n",
        "input_images=input_images/255.0"
      ],
      "execution_count": 0,
      "outputs": []
    },
    {
      "cell_type": "code",
      "metadata": {
        "id": "wj17InWmVhG9",
        "colab_type": "code",
        "colab": {}
      },
      "source": [
        "#Run the code and check the number of elements in input_images array\n",
        "len(input_images)"
      ],
      "execution_count": 0,
      "outputs": []
    },
    {
      "cell_type": "code",
      "metadata": {
        "id": "qcukRJ5J3I3u",
        "colab_type": "code",
        "colab": {}
      },
      "source": [
        "#Here we define a function which creates CNN with keras based on the number of demensions \n",
        "#----regress=False it would create a CNN for classification and regress=True \n",
        "#it would create a CNN for Regression\n",
        "#But for more accuracy we used the network which as been written by Sebelan Danishvar\n",
        "# import the necessary packages\n",
        "from keras.models import Sequential\n",
        "from keras.layers.normalization import BatchNormalization\n",
        "from keras.layers.convolutional import Conv2D\n",
        "from keras.layers.convolutional import MaxPooling2D\n",
        "from keras.layers.core import Activation\n",
        "from keras.layers.core import Dropout\n",
        "from keras.layers.core import Dense\n",
        "from keras.layers import Flatten\n",
        "from keras.layers import Input\n",
        "from keras.models import Model\n",
        "\n",
        "def create_cnn(width, height, depth, filters=(16, 32, 64), regress=False):\n",
        "\t# initialize the input shape and channel dimension, assuming\n",
        "\t# TensorFlow/channels-last ordering\n",
        "\tinputShape = (height, width, depth)\n",
        "\tchanDim = -1\n",
        "\n",
        "\t# define the model input\n",
        "\tinputs = Input(shape=inputShape)\n",
        "\n",
        "\t# loop over the number of filters\n",
        "\tfor (i, f) in enumerate(filters):\n",
        "\t\t# if this is the first CONV layer then set the input\n",
        "\t\t# appropriately\n",
        "\t\tif i == 0:\n",
        "\t\t\tx = inputs\n",
        "\n",
        "\t\t# CONV => RELU => BN => POOL\n",
        "\t\tx = Conv2D(f, (3, 3), padding=\"valid\")(x)\n",
        "\t\tx = Activation(\"relu\")(x)\n",
        "\t\tx = BatchNormalization(axis=chanDim)(x)\n",
        "\t\tx = MaxPooling2D(pool_size=(2, 2))(x)\n",
        "\n",
        "\t# flatten the volume, then FC => RELU => BN => DROPOUT\n",
        "\tx = Flatten()(x)\n",
        "\tx = Dense(16)(x)\n",
        "\tx = Activation(\"relu\")(x)\n",
        "\tx = BatchNormalization(axis=chanDim)(x)\n",
        "\tx = Dropout(0.5)(x)\n",
        "\n",
        "\t# apply another FC layer, this one to match the number of nodes\n",
        "\t# coming out of the MLP\n",
        "\tx = Dense(4)(x)\n",
        "\tx = Activation(\"relu\")(x)\n",
        "\n",
        "\t# check to see if the regression node should be added\n",
        "\tif regress:\n",
        "\t\tx = Dense(4, activation=\"linear\")(x)\n",
        "\n",
        "\t# construct the CNN\n",
        "\tmodel = Model(inputs, x)\n",
        "\n",
        "\t# return the CNN\n",
        "\treturn model"
      ],
      "execution_count": 0,
      "outputs": []
    },
    {
      "cell_type": "code",
      "metadata": {
        "id": "I1aqn9FZBTkT",
        "colab_type": "code",
        "colab": {}
      },
      "source": [
        "model=create_cnn(256, 256, 1, filters=(16, 32, 64), regress=True)"
      ],
      "execution_count": 0,
      "outputs": []
    },
    {
      "cell_type": "code",
      "metadata": {
        "id": "6FZjXrvyB5LP",
        "colab_type": "code",
        "outputId": "cec76ee2-f46f-4698-9f48-3a7764d5d9ca",
        "colab": {
          "base_uri": "https://localhost:8080/",
          "height": 926
        }
      },
      "source": [
        "#Model Summary of our Network but scroll done and used second network\n",
        "model.summary()"
      ],
      "execution_count": 0,
      "outputs": [
        {
          "output_type": "stream",
          "text": [
            "Model: \"model_3\"\n",
            "_________________________________________________________________\n",
            "Layer (type)                 Output Shape              Param #   \n",
            "=================================================================\n",
            "input_3 (InputLayer)         (None, 256, 256, 1)       0         \n",
            "_________________________________________________________________\n",
            "conv2d_7 (Conv2D)            (None, 254, 254, 16)      160       \n",
            "_________________________________________________________________\n",
            "activation_11 (Activation)   (None, 254, 254, 16)      0         \n",
            "_________________________________________________________________\n",
            "batch_normalization_9 (Batch (None, 254, 254, 16)      64        \n",
            "_________________________________________________________________\n",
            "max_pooling2d_7 (MaxPooling2 (None, 127, 127, 16)      0         \n",
            "_________________________________________________________________\n",
            "conv2d_8 (Conv2D)            (None, 125, 125, 32)      4640      \n",
            "_________________________________________________________________\n",
            "activation_12 (Activation)   (None, 125, 125, 32)      0         \n",
            "_________________________________________________________________\n",
            "batch_normalization_10 (Batc (None, 125, 125, 32)      128       \n",
            "_________________________________________________________________\n",
            "max_pooling2d_8 (MaxPooling2 (None, 62, 62, 32)        0         \n",
            "_________________________________________________________________\n",
            "conv2d_9 (Conv2D)            (None, 60, 60, 64)        18496     \n",
            "_________________________________________________________________\n",
            "activation_13 (Activation)   (None, 60, 60, 64)        0         \n",
            "_________________________________________________________________\n",
            "batch_normalization_11 (Batc (None, 60, 60, 64)        256       \n",
            "_________________________________________________________________\n",
            "max_pooling2d_9 (MaxPooling2 (None, 30, 30, 64)        0         \n",
            "_________________________________________________________________\n",
            "flatten_3 (Flatten)          (None, 57600)             0         \n",
            "_________________________________________________________________\n",
            "dense_7 (Dense)              (None, 16)                921616    \n",
            "_________________________________________________________________\n",
            "activation_14 (Activation)   (None, 16)                0         \n",
            "_________________________________________________________________\n",
            "batch_normalization_12 (Batc (None, 16)                64        \n",
            "_________________________________________________________________\n",
            "dropout_3 (Dropout)          (None, 16)                0         \n",
            "_________________________________________________________________\n",
            "dense_8 (Dense)              (None, 4)                 68        \n",
            "_________________________________________________________________\n",
            "activation_15 (Activation)   (None, 4)                 0         \n",
            "_________________________________________________________________\n",
            "dense_9 (Dense)              (None, 4)                 20        \n",
            "=================================================================\n",
            "Total params: 945,512\n",
            "Trainable params: 945,256\n",
            "Non-trainable params: 256\n",
            "_________________________________________________________________\n"
          ],
          "name": "stdout"
        }
      ]
    },
    {
      "cell_type": "code",
      "metadata": {
        "id": "6AATSe3sQ5ye",
        "colab_type": "code",
        "colab": {}
      },
      "source": [
        "#This peice of code has been written by Sebelan Danishvar\n",
        "#https://scholar.google.com/citations?user=S6jZTFoAAAAJ&hl=en --->Daneshvar \n",
        "from keras.callbacks import ModelCheckpoint, LearningRateScheduler, TensorBoard\n",
        "from keras.preprocessing.image import ImageDataGenerator\n",
        "from keras.layers.advanced_activations import LeakyReLU\n",
        "from keras import models, layers, optimizers, losses\n",
        "from sklearn.model_selection import train_test_split\n",
        "import numpy as np\n",
        "import tensorflow as tf\n",
        "import pandas as pd\n",
        "\n",
        "\n",
        "#df = pd.read_csv(inputPath, sep=\" \", header=None, names=cols)\n",
        "model = models.Sequential()\n",
        "model.add(layers.Conv2D(8, (3, 3), activation='relu', padding='valid', strides=2, dilation_rate=1, input_shape=(256,256,1)))\n",
        "model.add(layers.Conv2D(32, (3, 3), activation='relu', padding='valid', strides=2, dilation_rate=1))\n",
        "model.add(layers.Conv2D(64, (3, 3), activation='relu', padding='valid', strides=2, dilation_rate=1))\n",
        "model.add(layers.Flatten())\n",
        "model.add(layers.Dropout(0.5))\n",
        "model.add(layers.Dense(10))\n",
        "model.add(LeakyReLU(alpha=0.2))\n",
        "model.add(layers.Dense(4, activation='linear'))   \n",
        "model.summary()\n",
        "\n"
      ],
      "execution_count": 0,
      "outputs": []
    },
    {
      "cell_type": "code",
      "metadata": {
        "id": "_AEn4AaPlDaP",
        "colab_type": "code",
        "outputId": "1da021e1-45b5-49d4-b0c1-22044c25a873",
        "colab": {
          "base_uri": "https://localhost:8080/",
          "height": 35
        }
      },
      "source": [
        "input_images1=input_images[:,:,:,0]\n",
        "print(input_images1.shape)"
      ],
      "execution_count": 0,
      "outputs": [
        {
          "output_type": "stream",
          "text": [
            "(300, 256, 256)\n"
          ],
          "name": "stdout"
        }
      ]
    },
    {
      "cell_type": "code",
      "metadata": {
        "id": "fR_fBWRhLnmY",
        "colab_type": "code",
        "colab": {}
      },
      "source": [
        "#partition the data into training and testing splits using 90% of\n",
        "#the data for training and the remaining 20% for testing\n",
        "from sklearn.model_selection import train_test_split\n",
        "# partition the data into training and testing splits using 80% of\n",
        "# the data for training and the remaining 20% for testing\n",
        "split = train_test_split(my_df[0:300],input_images1, test_size=0.1, random_state=42)\n",
        "(trainImagecoordinatex,testimagecoordinatex, trainImagesX,testImagesX) = split\n",
        "trainY =trainImagecoordinatex \n",
        "testY = testimagecoordinatex"
      ],
      "execution_count": 0,
      "outputs": []
    },
    {
      "cell_type": "code",
      "metadata": {
        "id": "Yl_XEhNQufT2",
        "colab_type": "code",
        "outputId": "fc6e963b-d8f4-4770-c84f-bdf7ad18417b",
        "colab": {
          "base_uri": "https://localhost:8080/",
          "height": 72
        }
      },
      "source": [
        "#We convert our numpy array to 4dimenssion\n",
        "print(trainImagesX.shape)\n",
        "trainImagesX1=np.zeros((270,256,256,1))\n",
        "trainImagesX1[:,:,:,0]=trainImagesX\n",
        "print(trainImagesX1.shape)\n",
        "\n",
        "testImagesX1=np.zeros((30,256,256,1))\n",
        "testImagesX1[:,:,:,0]=testImagesX\n",
        "print(testImagesX1.shape)"
      ],
      "execution_count": 0,
      "outputs": [
        {
          "output_type": "stream",
          "text": [
            "(270, 256, 256)\n",
            "(270, 256, 256, 1)\n",
            "(30, 256, 256, 1)\n"
          ],
          "name": "stdout"
        }
      ]
    },
    {
      "cell_type": "markdown",
      "metadata": {
        "id": "Utzc-2juOYA5",
        "colab_type": "text"
      },
      "source": [
        "then compile the model"
      ]
    },
    {
      "cell_type": "code",
      "metadata": {
        "id": "fN1OjiEYOZcY",
        "colab_type": "code",
        "colab": {}
      },
      "source": [
        "from keras.optimizers import Adamax\n",
        "from keras import models, layers, optimizers, losses\n",
        "# create our Convolutional Neural Network and then compile the model\n",
        "# using mean absolute percentage error as our loss, implying that we\n",
        "# seek to minimize the absolute percentage difference between our\n",
        "# price *predictions* and the *actual prices*\n",
        "model.compile(optimizer=optimizers.Adamax(), loss= 'mse', metrics= ['mae'])"
      ],
      "execution_count": 0,
      "outputs": []
    },
    {
      "cell_type": "markdown",
      "metadata": {
        "id": "Jetjg1NLOnr0",
        "colab_type": "text"
      },
      "source": [
        "# train the model"
      ]
    },
    {
      "cell_type": "code",
      "metadata": {
        "id": "bkdWXhNYTZ8Q",
        "colab_type": "code",
        "colab": {}
      },
      "source": [
        ""
      ],
      "execution_count": 0,
      "outputs": []
    },
    {
      "cell_type": "code",
      "metadata": {
        "id": "XEp4r_5hOywn",
        "colab_type": "code",
        "colab": {}
      },
      "source": [
        "# train the model\n",
        "#validation_data=(testImagesX, testY)\n",
        "model.fit(trainImagesX1, trainY,validation_data=(testImagesX1, testY),epochs=50, batch_size=8)"
      ],
      "execution_count": 0,
      "outputs": []
    },
    {
      "cell_type": "code",
      "metadata": {
        "id": "S5EYBnvQ0F6r",
        "colab_type": "code",
        "colab": {}
      },
      "source": [
        "#  ...\n",
        "model.save(\"modelconvolutionregression100epoch_myownnetwork.h5\")"
      ],
      "execution_count": 0,
      "outputs": []
    },
    {
      "cell_type": "markdown",
      "metadata": {
        "id": "v97Bqt68w9U-",
        "colab_type": "text"
      },
      "source": [
        "**With this short peice of code we can have access to the coordinates and image numbers which are splitted as test set**"
      ]
    },
    {
      "cell_type": "code",
      "metadata": {
        "id": "Pixo_jW0LF22",
        "colab_type": "code",
        "outputId": "1510a023-8ed2-42ce-ade1-fd9794f0efa6",
        "colab": {
          "base_uri": "https://localhost:8080/",
          "height": 918
        }
      },
      "source": [
        "#These were our results for 30 Images as our test data \n",
        "#our mae was 2.8 pixel on 50 epoch \n",
        "testY[1:30]"
      ],
      "execution_count": 0,
      "outputs": [
        {
          "output_type": "execute_result",
          "data": {
            "text/html": [
              "<div>\n",
              "<style scoped>\n",
              "    .dataframe tbody tr th:only-of-type {\n",
              "        vertical-align: middle;\n",
              "    }\n",
              "\n",
              "    .dataframe tbody tr th {\n",
              "        vertical-align: top;\n",
              "    }\n",
              "\n",
              "    .dataframe thead th {\n",
              "        text-align: right;\n",
              "    }\n",
              "</style>\n",
              "<table border=\"1\" class=\"dataframe\">\n",
              "  <thead>\n",
              "    <tr style=\"text-align: right;\">\n",
              "      <th></th>\n",
              "      <th>LEFT EYE X</th>\n",
              "      <th>LEFT EYE Y</th>\n",
              "      <th>RIGHT EYE X</th>\n",
              "      <th>RIGHT EYE Y</th>\n",
              "    </tr>\n",
              "  </thead>\n",
              "  <tbody>\n",
              "    <tr>\n",
              "      <th>266</th>\n",
              "      <td>54</td>\n",
              "      <td>84</td>\n",
              "      <td>55</td>\n",
              "      <td>172</td>\n",
              "    </tr>\n",
              "    <tr>\n",
              "      <th>152</th>\n",
              "      <td>53</td>\n",
              "      <td>81</td>\n",
              "      <td>53</td>\n",
              "      <td>171</td>\n",
              "    </tr>\n",
              "    <tr>\n",
              "      <th>9</th>\n",
              "      <td>56</td>\n",
              "      <td>79</td>\n",
              "      <td>57</td>\n",
              "      <td>168</td>\n",
              "    </tr>\n",
              "    <tr>\n",
              "      <th>233</th>\n",
              "      <td>57</td>\n",
              "      <td>90</td>\n",
              "      <td>60</td>\n",
              "      <td>172</td>\n",
              "    </tr>\n",
              "    <tr>\n",
              "      <th>226</th>\n",
              "      <td>63</td>\n",
              "      <td>83</td>\n",
              "      <td>69</td>\n",
              "      <td>180</td>\n",
              "    </tr>\n",
              "    <tr>\n",
              "      <th>196</th>\n",
              "      <td>48</td>\n",
              "      <td>84</td>\n",
              "      <td>51</td>\n",
              "      <td>171</td>\n",
              "    </tr>\n",
              "    <tr>\n",
              "      <th>109</th>\n",
              "      <td>54</td>\n",
              "      <td>75</td>\n",
              "      <td>56</td>\n",
              "      <td>175</td>\n",
              "    </tr>\n",
              "    <tr>\n",
              "      <th>5</th>\n",
              "      <td>48</td>\n",
              "      <td>86</td>\n",
              "      <td>52</td>\n",
              "      <td>172</td>\n",
              "    </tr>\n",
              "    <tr>\n",
              "      <th>175</th>\n",
              "      <td>48</td>\n",
              "      <td>80</td>\n",
              "      <td>50</td>\n",
              "      <td>178</td>\n",
              "    </tr>\n",
              "    <tr>\n",
              "      <th>237</th>\n",
              "      <td>60</td>\n",
              "      <td>85</td>\n",
              "      <td>61</td>\n",
              "      <td>180</td>\n",
              "    </tr>\n",
              "    <tr>\n",
              "      <th>57</th>\n",
              "      <td>54</td>\n",
              "      <td>86</td>\n",
              "      <td>56</td>\n",
              "      <td>169</td>\n",
              "    </tr>\n",
              "    <tr>\n",
              "      <th>218</th>\n",
              "      <td>53</td>\n",
              "      <td>81</td>\n",
              "      <td>55</td>\n",
              "      <td>169</td>\n",
              "    </tr>\n",
              "    <tr>\n",
              "      <th>45</th>\n",
              "      <td>49</td>\n",
              "      <td>81</td>\n",
              "      <td>49</td>\n",
              "      <td>173</td>\n",
              "    </tr>\n",
              "    <tr>\n",
              "      <th>182</th>\n",
              "      <td>59</td>\n",
              "      <td>80</td>\n",
              "      <td>60</td>\n",
              "      <td>177</td>\n",
              "    </tr>\n",
              "    <tr>\n",
              "      <th>221</th>\n",
              "      <td>51</td>\n",
              "      <td>78</td>\n",
              "      <td>52</td>\n",
              "      <td>171</td>\n",
              "    </tr>\n",
              "    <tr>\n",
              "      <th>289</th>\n",
              "      <td>60</td>\n",
              "      <td>84</td>\n",
              "      <td>61</td>\n",
              "      <td>162</td>\n",
              "    </tr>\n",
              "    <tr>\n",
              "      <th>211</th>\n",
              "      <td>66</td>\n",
              "      <td>83</td>\n",
              "      <td>68</td>\n",
              "      <td>170</td>\n",
              "    </tr>\n",
              "    <tr>\n",
              "      <th>148</th>\n",
              "      <td>59</td>\n",
              "      <td>86</td>\n",
              "      <td>60</td>\n",
              "      <td>177</td>\n",
              "    </tr>\n",
              "    <tr>\n",
              "      <th>165</th>\n",
              "      <td>51</td>\n",
              "      <td>86</td>\n",
              "      <td>51</td>\n",
              "      <td>171</td>\n",
              "    </tr>\n",
              "    <tr>\n",
              "      <th>78</th>\n",
              "      <td>54</td>\n",
              "      <td>79</td>\n",
              "      <td>57</td>\n",
              "      <td>177</td>\n",
              "    </tr>\n",
              "    <tr>\n",
              "      <th>113</th>\n",
              "      <td>54</td>\n",
              "      <td>87</td>\n",
              "      <td>56</td>\n",
              "      <td>176</td>\n",
              "    </tr>\n",
              "    <tr>\n",
              "      <th>249</th>\n",
              "      <td>68</td>\n",
              "      <td>84</td>\n",
              "      <td>69</td>\n",
              "      <td>172</td>\n",
              "    </tr>\n",
              "    <tr>\n",
              "      <th>250</th>\n",
              "      <td>60</td>\n",
              "      <td>94</td>\n",
              "      <td>63</td>\n",
              "      <td>180</td>\n",
              "    </tr>\n",
              "    <tr>\n",
              "      <th>104</th>\n",
              "      <td>63</td>\n",
              "      <td>87</td>\n",
              "      <td>64</td>\n",
              "      <td>172</td>\n",
              "    </tr>\n",
              "    <tr>\n",
              "      <th>42</th>\n",
              "      <td>55</td>\n",
              "      <td>85</td>\n",
              "      <td>56</td>\n",
              "      <td>173</td>\n",
              "    </tr>\n",
              "    <tr>\n",
              "      <th>281</th>\n",
              "      <td>50</td>\n",
              "      <td>76</td>\n",
              "      <td>54</td>\n",
              "      <td>169</td>\n",
              "    </tr>\n",
              "    <tr>\n",
              "      <th>295</th>\n",
              "      <td>54</td>\n",
              "      <td>84</td>\n",
              "      <td>57</td>\n",
              "      <td>178</td>\n",
              "    </tr>\n",
              "    <tr>\n",
              "      <th>157</th>\n",
              "      <td>60</td>\n",
              "      <td>79</td>\n",
              "      <td>61</td>\n",
              "      <td>167</td>\n",
              "    </tr>\n",
              "    <tr>\n",
              "      <th>238</th>\n",
              "      <td>57</td>\n",
              "      <td>91</td>\n",
              "      <td>60</td>\n",
              "      <td>173</td>\n",
              "    </tr>\n",
              "  </tbody>\n",
              "</table>\n",
              "</div>"
            ],
            "text/plain": [
              "     LEFT EYE X  LEFT EYE Y  RIGHT EYE X  RIGHT EYE Y\n",
              "266          54          84           55          172\n",
              "152          53          81           53          171\n",
              "9            56          79           57          168\n",
              "233          57          90           60          172\n",
              "226          63          83           69          180\n",
              "196          48          84           51          171\n",
              "109          54          75           56          175\n",
              "5            48          86           52          172\n",
              "175          48          80           50          178\n",
              "237          60          85           61          180\n",
              "57           54          86           56          169\n",
              "218          53          81           55          169\n",
              "45           49          81           49          173\n",
              "182          59          80           60          177\n",
              "221          51          78           52          171\n",
              "289          60          84           61          162\n",
              "211          66          83           68          170\n",
              "148          59          86           60          177\n",
              "165          51          86           51          171\n",
              "78           54          79           57          177\n",
              "113          54          87           56          176\n",
              "249          68          84           69          172\n",
              "250          60          94           63          180\n",
              "104          63          87           64          172\n",
              "42           55          85           56          173\n",
              "281          50          76           54          169\n",
              "295          54          84           57          178\n",
              "157          60          79           61          167\n",
              "238          57          91           60          173"
            ]
          },
          "metadata": {
            "tags": []
          },
          "execution_count": 23
        }
      ]
    },
    {
      "cell_type": "code",
      "metadata": {
        "id": "nyR7jsEa6EN9",
        "colab_type": "code",
        "outputId": "26b6b35d-d5e6-44fe-8dc4-4db1f7678a2d",
        "colab": {
          "base_uri": "https://localhost:8080/",
          "height": 427
        }
      },
      "source": [
        "#We test our network on all data with 2.8 pixel mae \n",
        "\n",
        "surveydatafram"
      ],
      "execution_count": 0,
      "outputs": [
        {
          "output_type": "execute_result",
          "data": {
            "text/html": [
              "<div>\n",
              "<style scoped>\n",
              "    .dataframe tbody tr th:only-of-type {\n",
              "        vertical-align: middle;\n",
              "    }\n",
              "\n",
              "    .dataframe tbody tr th {\n",
              "        vertical-align: top;\n",
              "    }\n",
              "\n",
              "    .dataframe thead th {\n",
              "        text-align: right;\n",
              "    }\n",
              "</style>\n",
              "<table border=\"1\" class=\"dataframe\">\n",
              "  <thead>\n",
              "    <tr style=\"text-align: right;\">\n",
              "      <th></th>\n",
              "      <th>ActualLeftX</th>\n",
              "      <th>ActualLeftY</th>\n",
              "      <th>ActualRightX</th>\n",
              "      <th>ActualRightY</th>\n",
              "      <th>PredictionLeftX</th>\n",
              "      <th>PredictionLeftY</th>\n",
              "      <th>PredictionRightX</th>\n",
              "      <th>PredictionRightY</th>\n",
              "    </tr>\n",
              "  </thead>\n",
              "  <tbody>\n",
              "    <tr>\n",
              "      <th>0</th>\n",
              "      <td>68</td>\n",
              "      <td>82</td>\n",
              "      <td>70</td>\n",
              "      <td>175</td>\n",
              "      <td>66</td>\n",
              "      <td>83</td>\n",
              "      <td>67</td>\n",
              "      <td>170</td>\n",
              "    </tr>\n",
              "    <tr>\n",
              "      <th>1</th>\n",
              "      <td>55</td>\n",
              "      <td>79</td>\n",
              "      <td>56</td>\n",
              "      <td>173</td>\n",
              "      <td>52</td>\n",
              "      <td>79</td>\n",
              "      <td>55</td>\n",
              "      <td>171</td>\n",
              "    </tr>\n",
              "    <tr>\n",
              "      <th>2</th>\n",
              "      <td>46</td>\n",
              "      <td>87</td>\n",
              "      <td>49</td>\n",
              "      <td>178</td>\n",
              "      <td>43</td>\n",
              "      <td>85</td>\n",
              "      <td>47</td>\n",
              "      <td>177</td>\n",
              "    </tr>\n",
              "    <tr>\n",
              "      <th>3</th>\n",
              "      <td>61</td>\n",
              "      <td>83</td>\n",
              "      <td>61</td>\n",
              "      <td>166</td>\n",
              "      <td>61</td>\n",
              "      <td>84</td>\n",
              "      <td>64</td>\n",
              "      <td>169</td>\n",
              "    </tr>\n",
              "    <tr>\n",
              "      <th>4</th>\n",
              "      <td>52</td>\n",
              "      <td>82</td>\n",
              "      <td>53</td>\n",
              "      <td>172</td>\n",
              "      <td>51</td>\n",
              "      <td>82</td>\n",
              "      <td>54</td>\n",
              "      <td>171</td>\n",
              "    </tr>\n",
              "    <tr>\n",
              "      <th>...</th>\n",
              "      <td>...</td>\n",
              "      <td>...</td>\n",
              "      <td>...</td>\n",
              "      <td>...</td>\n",
              "      <td>...</td>\n",
              "      <td>...</td>\n",
              "      <td>...</td>\n",
              "      <td>...</td>\n",
              "    </tr>\n",
              "    <tr>\n",
              "      <th>245</th>\n",
              "      <td>57</td>\n",
              "      <td>81</td>\n",
              "      <td>57</td>\n",
              "      <td>175</td>\n",
              "      <td>53</td>\n",
              "      <td>82</td>\n",
              "      <td>56</td>\n",
              "      <td>172</td>\n",
              "    </tr>\n",
              "    <tr>\n",
              "      <th>246</th>\n",
              "      <td>54</td>\n",
              "      <td>86</td>\n",
              "      <td>57</td>\n",
              "      <td>168</td>\n",
              "      <td>53</td>\n",
              "      <td>85</td>\n",
              "      <td>55</td>\n",
              "      <td>169</td>\n",
              "    </tr>\n",
              "    <tr>\n",
              "      <th>247</th>\n",
              "      <td>65</td>\n",
              "      <td>77</td>\n",
              "      <td>66</td>\n",
              "      <td>170</td>\n",
              "      <td>64</td>\n",
              "      <td>82</td>\n",
              "      <td>66</td>\n",
              "      <td>169</td>\n",
              "    </tr>\n",
              "    <tr>\n",
              "      <th>248</th>\n",
              "      <td>69</td>\n",
              "      <td>82</td>\n",
              "      <td>69</td>\n",
              "      <td>169</td>\n",
              "      <td>66</td>\n",
              "      <td>84</td>\n",
              "      <td>68</td>\n",
              "      <td>170</td>\n",
              "    </tr>\n",
              "    <tr>\n",
              "      <th>249</th>\n",
              "      <td>68</td>\n",
              "      <td>84</td>\n",
              "      <td>69</td>\n",
              "      <td>172</td>\n",
              "      <td>65</td>\n",
              "      <td>83</td>\n",
              "      <td>67</td>\n",
              "      <td>171</td>\n",
              "    </tr>\n",
              "  </tbody>\n",
              "</table>\n",
              "<p>250 rows × 8 columns</p>\n",
              "</div>"
            ],
            "text/plain": [
              "     ActualLeftX  ActualLeftY  ...  PredictionRightX  PredictionRightY\n",
              "0             68           82  ...                67               170\n",
              "1             55           79  ...                55               171\n",
              "2             46           87  ...                47               177\n",
              "3             61           83  ...                64               169\n",
              "4             52           82  ...                54               171\n",
              "..           ...          ...  ...               ...               ...\n",
              "245           57           81  ...                56               172\n",
              "246           54           86  ...                55               169\n",
              "247           65           77  ...                66               169\n",
              "248           69           82  ...                68               170\n",
              "249           68           84  ...                67               171\n",
              "\n",
              "[250 rows x 8 columns]"
            ]
          },
          "metadata": {
            "tags": []
          },
          "execution_count": 50
        }
      ]
    },
    {
      "cell_type": "code",
      "metadata": {
        "id": "cmOZ8hR8-Oqu",
        "colab_type": "code",
        "colab": {}
      },
      "source": [
        "\n",
        "surveydatafram.to_csv('compareresultforalldata_second_prediction_250_newnetwork.csv')"
      ],
      "execution_count": 0,
      "outputs": []
    }
  ]
}